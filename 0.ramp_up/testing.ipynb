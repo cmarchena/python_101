{
 "cells": [
  {
   "cell_type": "code",
   "execution_count": 46,
   "metadata": {},
   "outputs": [
    {
     "name": "stdout",
     "output_type": "stream",
     "text": [
      "['Sofia', 'Lucia', 'Paco', 'Johnny']\n"
     ]
    }
   ],
   "source": [
    "guest_list = []\n",
    "def add_new_guest(name):\n",
    "    guest_list.append(name)\n",
    "\n",
    "add_new_guest(\"Sofia\")\n",
    "add_new_guest(\"Lucia\")\n",
    "\n",
    "add_new_guest(\"Paco\")\n",
    "add_new_guest(\"Johnny\")\n",
    "print(guest_list)"
   ]
  },
  {
   "cell_type": "code",
   "execution_count": 59,
   "metadata": {},
   "outputs": [],
   "source": [
    "def fahrenheit_to_celsius(fahrenheit):\n",
    "    return round((fahrenheit - 32)*5/9, 2)\n",
    "\n",
    "def test_fahrenheit32_celsius0(func):\n",
    "    #Given / Arrange\n",
    "    f = 32\n",
    "    #When / Act\n",
    "    result = func(f)\n",
    "    #Then / Assert\n",
    "    return result == 0\n",
    "def test_fahrenheit90_celsius32(func):\n",
    "    #Given / Arrange\n",
    "    f = 90\n",
    "    #When / Act\n",
    "    result = func(f)\n",
    "    #Then / Assert\n",
    "    return result == 32.22"
   ]
  },
  {
   "cell_type": "code",
   "execution_count": 53,
   "metadata": {},
   "outputs": [
    {
     "data": {
      "text/plain": [
       "32"
      ]
     },
     "execution_count": 53,
     "metadata": {},
     "output_type": "execute_result"
    }
   ],
   "source": [
    "fahrenheit_to_celsius(90)"
   ]
  },
  {
   "cell_type": "code",
   "execution_count": 60,
   "metadata": {},
   "outputs": [
    {
     "data": {
      "text/plain": [
       "True"
      ]
     },
     "execution_count": 60,
     "metadata": {},
     "output_type": "execute_result"
    }
   ],
   "source": [
    "test_fahrenheit32_celsius0(fahrenheit_to_celsius)\n",
    "test_fahrenheit90_celsius32(fahrenheit_to_celsius)"
   ]
  },
  {
   "cell_type": "code",
   "execution_count": null,
   "metadata": {},
   "outputs": [],
   "source": []
  },
  {
   "cell_type": "code",
   "execution_count": null,
   "metadata": {},
   "outputs": [],
   "source": []
  },
  {
   "cell_type": "code",
   "execution_count": null,
   "metadata": {},
   "outputs": [],
   "source": []
  },
  {
   "cell_type": "code",
   "execution_count": null,
   "metadata": {},
   "outputs": [],
   "source": []
  },
  {
   "cell_type": "code",
   "execution_count": null,
   "metadata": {},
   "outputs": [],
   "source": [
    "def fahrenheit_to_celsius(fahrenheit):\n",
    "    # return int(((fahrenheit - 32) * 5)/9)\n",
    "    \n",
    "    return round(((fahrenheit - 32) * 5)/9, 2)\n",
    "\n",
    "print(fahrenheit_to_celsius(32))"
   ]
  },
  {
   "cell_type": "code",
   "execution_count": null,
   "metadata": {},
   "outputs": [],
   "source": [
    "\n",
    "def test_temp(func):\n",
    "    # Given\n",
    "    f = 90\n",
    "    # When\n",
    "    result = func(90)\n",
    "    # Then\n",
    "    return result == 32.22\n",
    "\n",
    "test_temp(fahrenheit_to_celsius)"
   ]
  }
 ],
 "metadata": {
  "kernelspec": {
   "display_name": "venv",
   "language": "python",
   "name": "python3"
  },
  "language_info": {
   "codemirror_mode": {
    "name": "ipython",
    "version": 3
   },
   "file_extension": ".py",
   "mimetype": "text/x-python",
   "name": "python",
   "nbconvert_exporter": "python",
   "pygments_lexer": "ipython3",
   "version": "3.10.9"
  },
  "orig_nbformat": 4,
  "vscode": {
   "interpreter": {
    "hash": "ff38324ce6089187e7243f30cbcac7b9762be1450761368d81c5b5553227e63e"
   }
  }
 },
 "nbformat": 4,
 "nbformat_minor": 2
}

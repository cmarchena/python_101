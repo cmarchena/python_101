{
 "cells": [
  {
   "cell_type": "code",
   "execution_count": 9,
   "metadata": {},
   "outputs": [
    {
     "name": "stdout",
     "output_type": "stream",
     "text": [
      "[{'id': 1, 'phone_number': '+1-281-108-6812x7389'}, {'id': 2, 'phone_number': '001-557-337-9696x83613'}, {'id': 3, 'phone_number': '+1-455-638-8534x532'}, {'id': 4, 'phone_number': '(248)744-7317x914'}, {'id': 5, 'phone_number': '204-966-8896x6178'}, {'id': 6, 'phone_number': '(776)266-8694x094'}, {'id': 7, 'phone_number': '787-909-1655x4915'}, {'id': 8, 'phone_number': '(217)220-7945x514'}, {'id': 9, 'phone_number': '001-225-607-9186x33907'}, {'id': 10, 'phone_number': '960-100-5774'}, {'id': 11, 'phone_number': '(813)858-3909x2283'}, {'id': 12, 'phone_number': '540-881-8357x731'}, {'id': 13, 'phone_number': '+1-776-697-1521'}, {'id': 14, 'phone_number': '+1-734-854-5755x3000'}, {'id': 15, 'phone_number': '+1-390-613-6397'}, {'id': 16, 'phone_number': '001-345-315-7997x267'}, {'id': 17, 'phone_number': '(220)002-0574x87814'}, {'id': 18, 'phone_number': '(819)702-5721x28441'}, {'id': 19, 'phone_number': '001-584-024-4736x452'}, {'id': 20, 'phone_number': '+1-087-200-6636x2141'}, {'id': 21, 'phone_number': '439-738-4612x01890'}, {'id': 22, 'phone_number': '(461)749-2382'}, {'id': 23, 'phone_number': '001-715-983-6666x03309'}, {'id': 24, 'phone_number': '661.182.8959'}, {'id': 25, 'phone_number': '982.247.2181x10646'}, {'id': 26, 'phone_number': '283-706-7664x5013'}, {'id': 27, 'phone_number': '089-144-1763x6510'}, {'id': 28, 'phone_number': '654-404-4513x0787'}, {'id': 29, 'phone_number': '560-964-3829'}, {'id': 30, 'phone_number': '067.066.5941'}, {'id': 31, 'phone_number': '0836840365'}, {'id': 32, 'phone_number': '856.890.6966x309'}, {'id': 33, 'phone_number': '1174355437'}, {'id': 34, 'phone_number': '+1-252-855-9026'}, {'id': 35, 'phone_number': '(666)209-8189'}, {'id': 36, 'phone_number': '001-623-982-2612x8053'}, {'id': 37, 'phone_number': '+1-360-097-7877x1094'}, {'id': 38, 'phone_number': '(740)019-2715'}, {'id': 39, 'phone_number': '160-893-2117x5914'}, {'id': 40, 'phone_number': '675-417-7120x410'}, {'id': 41, 'phone_number': '5761873934'}, {'id': 42, 'phone_number': '+1-786-518-0822x22878'}, {'id': 43, 'phone_number': '+1-391-253-2594x06065'}, {'id': 44, 'phone_number': '(219)983-0563x515'}, {'id': 45, 'phone_number': '009-002-8500x72642'}, {'id': 46, 'phone_number': '471-478-2076'}, {'id': 47, 'phone_number': '137.172.7584x52976'}, {'id': 48, 'phone_number': '878.882.6694x2975'}, {'id': 49, 'phone_number': '472.798.5901'}, {'id': 50, 'phone_number': '001-486-393-6989x17202'}, {'id': 51, 'phone_number': '001-205-376-6529x592'}, {'id': 52, 'phone_number': '760.950.9784x485'}, {'id': 53, 'phone_number': '761.036.3186'}, {'id': 54, 'phone_number': '3204721681'}, {'id': 55, 'phone_number': '(029)451-5568x29550'}, {'id': 56, 'phone_number': '(971)461-4848x81513'}, {'id': 57, 'phone_number': '8130768847'}, {'id': 58, 'phone_number': '614.759.3424x312'}, {'id': 59, 'phone_number': '(961)567-3862'}, {'id': 60, 'phone_number': '+1-495-195-9040'}, {'id': 61, 'phone_number': '2973321210'}, {'id': 62, 'phone_number': '001-456-543-9023x165'}, {'id': 63, 'phone_number': '823.092.3280'}, {'id': 64, 'phone_number': '263-845-1749x114'}, {'id': 65, 'phone_number': '043.564.6608x089'}, {'id': 66, 'phone_number': '7070012780'}, {'id': 67, 'phone_number': '(370)204-3467'}, {'id': 68, 'phone_number': '901.192.1551x892'}, {'id': 69, 'phone_number': '+1-013-027-8447x509'}, {'id': 70, 'phone_number': '001-910-121-8364x458'}, {'id': 71, 'phone_number': '664.960.4701x936'}, {'id': 72, 'phone_number': '599-155-9456x279'}, {'id': 73, 'phone_number': '592-799-6590'}, {'id': 74, 'phone_number': '(940)088-6600x4144'}, {'id': 75, 'phone_number': '(445)201-8811x520'}, {'id': 76, 'phone_number': '(542)681-2845x699'}, {'id': 77, 'phone_number': '871-029-8194x54407'}, {'id': 78, 'phone_number': '+1-321-997-2771x88514'}, {'id': 79, 'phone_number': '(970)809-5894'}, {'id': 80, 'phone_number': '602.442.3621x2363'}, {'id': 81, 'phone_number': '215.655.8754'}, {'id': 82, 'phone_number': '644.696.3388x05448'}, {'id': 83, 'phone_number': '200.225.7430x1726'}, {'id': 84, 'phone_number': '6964830732'}, {'id': 85, 'phone_number': '365-184-9285'}, {'id': 86, 'phone_number': '(692)928-1696x51461'}, {'id': 87, 'phone_number': '+1-915-091-1237x65288'}, {'id': 88, 'phone_number': '0114564703'}, {'id': 89, 'phone_number': '001-842-624-4432x635'}, {'id': 90, 'phone_number': '701-133-0927'}, {'id': 91, 'phone_number': '(599)115-9842x306'}, {'id': 92, 'phone_number': '408-237-4642'}, {'id': 93, 'phone_number': '782.415.2749x54869'}, {'id': 94, 'phone_number': '(154)215-5305x1410'}, {'id': 95, 'phone_number': '018-876-7498x17187'}, {'id': 96, 'phone_number': '+1-170-164-0911x220'}, {'id': 97, 'phone_number': '269.261.3462x32501'}, {'id': 98, 'phone_number': '099.552.7467x0308'}, {'id': 99, 'phone_number': '281.743.1449'}]\n"
     ]
    }
   ],
   "source": [
    "import json\n",
    "\n",
    "from faker import Faker\n",
    "fake = Faker('en_US')\n",
    "Faker.seed(77)\n",
    "\n",
    "student_list = []\n",
    "scores_list = []\n",
    "\n",
    "for i in range(1,100):\n",
    "  dict = {}\n",
    "  dict[\"id\"] = i\n",
    "  dict[\"name\"] = f\"{fake.last_name().lower()}, {fake.first_name().lower()}\"\n",
    "\n",
    "\n",
    "  student_list.append(dict)\n",
    "\n",
    "\n",
    "for i in range(1,100):\n",
    "  dict = {}\n",
    "  dict[\"id\"] = i\n",
    "\n",
    "  dict[\"phone_number\"] = fake.phone_number()\n",
    "\n",
    "  scores_list.append(dict)\n",
    "print(scores_list)\n",
    "\n",
    "\n",
    "with open (\"first_table.json\", \"w\") as f:\n",
    "   json.dump(student_list, f)\n",
    "with open (\"second_table.json\", \"w\") as f:\n",
    "   json.dump(scores_list, f)  "
   ]
  },
  {
   "cell_type": "code",
   "execution_count": 10,
   "metadata": {},
   "outputs": [
    {
     "name": "stdout",
     "output_type": "stream",
     "text": [
      "[['Title', 'Released', 'Label', 'UK Chart Position', 'US Chart Position', 'BPI Certification', 'RIAA Certification'], ['Please Please Me', '22 March 1963', 'Parlophone(UK)', '1', '-', 'Gold', 'Platinum'], ['With the Beatles', '22 November 1963', 'Parlophone(UK)', '1', '-', 'Platinum', 'Gold'], ['Beatlemania! With the Beatles', '25 November 1963', 'Capitol(CAN)', '-', '-', '', ''], ['Introducing... The Beatles', '10 January 1964', 'Vee-Jay(US)', '-', '2', '', ''], ['Meet the Beatles!', '20 January 1964', 'Capitol(US)', '-', '1', '', '5xPlatinum'], ['Twist and Shout', '3 February 1964', 'Capitol(CAN)', '-', '-', '', ''], [\"The Beatles' Second Album\", '10 April 1964', 'Capitol(US)', '-', '1', '', '2xPlatinum'], [\"The Beatles' Long Tall Sally\", '11 May 1964', 'Capitol(CAN)', '-', '-', '', ''], [\"A Hard Day's Night\", '26 June 1964', 'United Artists(US)[C]', '-', '1', '', '4xPlatinum'], ['', '10 July 1964', 'Parlophone(UK)', '1', '-', 'Gold', ''], ['Something New', '20 July 1964', 'Capitol(US)', '-', '2', '', 'Platinum'], ['Beatles for Sale', '4 December 1964', 'Parlophone(UK)', '1', '-', 'Gold', 'Platinum'], [\"Beatles '65\", '15 December 1964', 'Capitol(US)', '-', '1', '', '3xPlatinum'], ['Beatles VI', '14 June 1965', 'Parlophone(NZ), Capitol(US)', '-', '1', '', 'Platinum'], ['Help!', '6 August 1965', 'Parlophone(UK)', '1', '-', 'Platinum', ''], ['', '13 August 1965', 'Capitol(US)[C]', '-', '1', '', '3xPlatinum'], ['Rubber Soul', '3 December 1965', 'Parlophone(UK)', '1', '-', 'Platinum', ''], ['', '6 December 1965', 'Capitol(US)[C]', '-', '1', '', '6xPlatinum'], ['Yesterday and Today', '15 June 1966', 'Capitol(US)', '-', '1', '', '2xPlatinum'], ['Revolver', '5 August 1966', 'Parlophone(UK)', '1', '-', 'Platinum', ''], ['', '8 August 1966', 'Capitol(US)[C]', '-', '1', '', '5xPlatinum'], [\"Sgt. Pepper's Lonely Hearts Club Band\", '1 June 1967', 'Parlophone(UK), Capitol(US)', '1', '1', '3xPlatinum', '11xPlatinum'], ['Magical Mystery Tour', '27 November 1967', 'Parlophone(UK), Capitol(US)', '31[D]', '1', 'Platinum', '6xPlatinum'], ['The Beatles', '22 November 1968', 'Apple(UK), Capitol(US)', '1', '1', 'Platinum', '19xPlatinum'], ['Yellow Submarine', '13 January 1969', 'Apple(UK), Capitol(US)', '3', '2', 'Silver', 'Platinum'], ['Abbey Road', '26 September 1969', 'Apple(UK), Capitol(US)', '1', '1', '2xPlatinum', '12xPlatinum'], ['Let It Be', '8 May 1970', 'Apple(UK),United Artists(US)', '1', '1', 'Gold', '4xPlatinum']]\n"
     ]
    }
   ],
   "source": [
    "import csv \n",
    "with open(\"beatles-discography.csv\", \"r\") as f:\n",
    "    reader = csv.reader(f)\n",
    "    data = list(reader)\n",
    "\n",
    "print(data)"
   ]
  },
  {
   "attachments": {},
   "cell_type": "markdown",
   "metadata": {},
   "source": [
    "# Part 1 "
   ]
  },
  {
   "cell_type": "code",
   "execution_count": 11,
   "metadata": {},
   "outputs": [],
   "source": [
    "# CRUD\n",
    "# READ vs WRITE\n",
    "# CREATE DATABASE\n",
    "# INSERT ONE\n",
    "# READ\n",
    "# INSERT MANY\n",
    "# WHERE\n",
    "# UPDATE\n",
    "# SORT\n",
    "# DELETE\n",
    "# USING PANDAS\n",
    "# JOINS\n"
   ]
  },
  {
   "cell_type": "code",
   "execution_count": 12,
   "metadata": {},
   "outputs": [],
   "source": [
    "import sqlite3\n",
    "conn = sqlite3.connect('todo.db')"
   ]
  },
  {
   "cell_type": "code",
   "execution_count": 13,
   "metadata": {},
   "outputs": [],
   "source": [
    "cursor = conn.cursor()\n",
    "cursor.execute(\"CREATE TABLE tasks (id TEXT, title TEXT, status BOOLEAN)\")\n",
    "conn.commit()"
   ]
  },
  {
   "cell_type": "code",
   "execution_count": 14,
   "metadata": {},
   "outputs": [],
   "source": [
    "cursor.execute(\"INSERT INTO tasks VALUES ('1', 'complete course', false)\")\n",
    "conn.commit()"
   ]
  },
  {
   "cell_type": "code",
   "execution_count": 15,
   "metadata": {},
   "outputs": [
    {
     "name": "stdout",
     "output_type": "stream",
     "text": [
      "[('1', 'complete course', 0)]\n"
     ]
    }
   ],
   "source": [
    "cursor.execute(\"SELECT * FROM tasks\")\n",
    "print(cursor.fetchall())"
   ]
  },
  {
   "cell_type": "code",
   "execution_count": 16,
   "metadata": {},
   "outputs": [],
   "source": [
    "several_tasks = [\n",
    "    ('2', 'complete exercise',False),\n",
    "    ('3', 'have a snack',False),\n",
    "    ('4', 'have lunch',False),\n",
    "]\n",
    "for task in several_tasks:\n",
    "    cursor.execute(\"INSERT INTO tasks VALUES (?, ?, ?)\", task)\n",
    "conn.commit()"
   ]
  },
  {
   "cell_type": "code",
   "execution_count": 17,
   "metadata": {},
   "outputs": [
    {
     "name": "stdout",
     "output_type": "stream",
     "text": [
      "[('3', 'have a snack', 0)]\n"
     ]
    }
   ],
   "source": [
    "cursor.execute(\"SELECT * FROM tasks WHERE id = '3'\")\n",
    "print(cursor.fetchall())"
   ]
  },
  {
   "cell_type": "code",
   "execution_count": 18,
   "metadata": {},
   "outputs": [],
   "source": [
    "cursor.execute(\"UPDATE tasks SET status = true WHERE id = '2'\")\n",
    "conn.commit()"
   ]
  },
  {
   "cell_type": "code",
   "execution_count": 19,
   "metadata": {},
   "outputs": [
    {
     "name": "stdout",
     "output_type": "stream",
     "text": [
      "[('4', 'have lunch', 0), ('3', 'have a snack', 0), ('2', 'complete exercise', 1), ('1', 'complete course', 0)]\n"
     ]
    }
   ],
   "source": [
    "cursor.execute(\"SELECT * FROM tasks ORDER BY title DESC\")\n",
    "print(cursor.fetchall())"
   ]
  },
  {
   "cell_type": "code",
   "execution_count": 20,
   "metadata": {},
   "outputs": [],
   "source": [
    "cursor.execute(\"DELETE FROM tasks WHERE id = '2'\")\n",
    "conn.commit()"
   ]
  },
  {
   "cell_type": "code",
   "execution_count": null,
   "metadata": {},
   "outputs": [],
   "source": []
  },
  {
   "cell_type": "code",
   "execution_count": 21,
   "metadata": {},
   "outputs": [
    {
     "name": "stdout",
     "output_type": "stream",
     "text": [
      "['title', 'released', 'label', 'uk_chart_position', 'us_chart_position', 'bpi_certification', 'riaa_certification']\n"
     ]
    }
   ],
   "source": [
    "import csv\n",
    "# Open the CSV file\n",
    "with open(\"beatles-discography.csv\", \"r\") as f:\n",
    "    reader = csv.reader(f)\n",
    "    data = list(reader)\n",
    "\n",
    "# Connect to the SQL database and create a table\n",
    "conn = sqlite3.connect('beatles.db')\n",
    "c = conn.cursor()\n",
    "column_names = [name.replace(\" \", \"_\").lower() for name in data[0]]\n",
    "print(column_names)\n"
   ]
  },
  {
   "cell_type": "code",
   "execution_count": 22,
   "metadata": {},
   "outputs": [],
   "source": [
    "c.execute(f'''\n",
    "CREATE TABLE IF NOT EXISTS my_table \n",
    "    ({column_names[0]} TEXT, \n",
    "    {column_names[1]} TEXT, \n",
    "    {column_names[2]} TEXT, \n",
    "    {column_names[3]} TEXT, \n",
    "    {column_names[4]} TEXT, \n",
    "    {column_names[5]} TEXT, \n",
    "    {column_names[6]} TEXT)''')\n",
    "\n",
    "for row in data[1:]:\n",
    "    col1 = row[0]\n",
    "    col2 = row[1]\n",
    "    col3 = row[2]\n",
    "    col4 = row[3]\n",
    "    col5 = row[4]\n",
    "    col6 = row[5]\n",
    "    col7 = row[6]\n",
    "    c.execute(f'''\n",
    "    INSERT INTO my_table \n",
    "        ({column_names[0]}, \n",
    "        {column_names[1]}, \n",
    "        {column_names[2]}, \n",
    "        {column_names[3]}, \n",
    "        {column_names[4]}, \n",
    "        {column_names[5]}, \n",
    "        {column_names[6]}) \n",
    "        VALUES (?, ?, ?, ?, ?, ?, ?)'''\n",
    "              , (col1, col2, col3, col4, col5, col6, col7))\n",
    "\n",
    "\n",
    "conn.commit()\n",
    "conn.close()\n"
   ]
  },
  {
   "cell_type": "code",
   "execution_count": 23,
   "metadata": {},
   "outputs": [
    {
     "name": "stdout",
     "output_type": "stream",
     "text": [
      "('Please Please Me', '22 March 1963', 'Parlophone(UK)', '1', '-', 'Gold', 'Platinum')\n",
      "('With the Beatles', '22 November 1963', 'Parlophone(UK)', '1', '-', 'Platinum', 'Gold')\n",
      "('Beatlemania! With the Beatles', '25 November 1963', 'Capitol(CAN)', '-', '-', '', '')\n",
      "('Introducing... The Beatles', '10 January 1964', 'Vee-Jay(US)', '-', '2', '', '')\n",
      "('Meet the Beatles!', '20 January 1964', 'Capitol(US)', '-', '1', '', '5xPlatinum')\n",
      "('Twist and Shout', '3 February 1964', 'Capitol(CAN)', '-', '-', '', '')\n",
      "(\"The Beatles' Second Album\", '10 April 1964', 'Capitol(US)', '-', '1', '', '2xPlatinum')\n",
      "(\"The Beatles' Long Tall Sally\", '11 May 1964', 'Capitol(CAN)', '-', '-', '', '')\n",
      "(\"A Hard Day's Night\", '26 June 1964', 'United Artists(US)[C]', '-', '1', '', '4xPlatinum')\n",
      "('', '10 July 1964', 'Parlophone(UK)', '1', '-', 'Gold', '')\n",
      "('Something New', '20 July 1964', 'Capitol(US)', '-', '2', '', 'Platinum')\n",
      "('Beatles for Sale', '4 December 1964', 'Parlophone(UK)', '1', '-', 'Gold', 'Platinum')\n",
      "(\"Beatles '65\", '15 December 1964', 'Capitol(US)', '-', '1', '', '3xPlatinum')\n",
      "('Beatles VI', '14 June 1965', 'Parlophone(NZ), Capitol(US)', '-', '1', '', 'Platinum')\n",
      "('Help!', '6 August 1965', 'Parlophone(UK)', '1', '-', 'Platinum', '')\n",
      "('', '13 August 1965', 'Capitol(US)[C]', '-', '1', '', '3xPlatinum')\n",
      "('Rubber Soul', '3 December 1965', 'Parlophone(UK)', '1', '-', 'Platinum', '')\n",
      "('', '6 December 1965', 'Capitol(US)[C]', '-', '1', '', '6xPlatinum')\n",
      "('Yesterday and Today', '15 June 1966', 'Capitol(US)', '-', '1', '', '2xPlatinum')\n",
      "('Revolver', '5 August 1966', 'Parlophone(UK)', '1', '-', 'Platinum', '')\n",
      "('', '8 August 1966', 'Capitol(US)[C]', '-', '1', '', '5xPlatinum')\n",
      "(\"Sgt. Pepper's Lonely Hearts Club Band\", '1 June 1967', 'Parlophone(UK), Capitol(US)', '1', '1', '3xPlatinum', '11xPlatinum')\n",
      "('Magical Mystery Tour', '27 November 1967', 'Parlophone(UK), Capitol(US)', '31[D]', '1', 'Platinum', '6xPlatinum')\n",
      "('The Beatles', '22 November 1968', 'Apple(UK), Capitol(US)', '1', '1', 'Platinum', '19xPlatinum')\n",
      "('Yellow Submarine', '13 January 1969', 'Apple(UK), Capitol(US)', '3', '2', 'Silver', 'Platinum')\n",
      "('Abbey Road', '26 September 1969', 'Apple(UK), Capitol(US)', '1', '1', '2xPlatinum', '12xPlatinum')\n",
      "('Let It Be', '8 May 1970', 'Apple(UK),United Artists(US)', '1', '1', 'Gold', '4xPlatinum')\n"
     ]
    }
   ],
   "source": [
    "conn = sqlite3.connect('beatles.db')\n",
    "cursor = conn.cursor()\n",
    "query = \"SELECT * FROM my_table;\"\n",
    "cursor.execute(query)\n",
    "results = cursor.fetchall()\n",
    "for row in results:\n",
    "    print(row)\n",
    "\n",
    "cursor.close()\n",
    "conn.close()\n"
   ]
  },
  {
   "cell_type": "code",
   "execution_count": 24,
   "metadata": {},
   "outputs": [
    {
     "name": "stdout",
     "output_type": "stream",
     "text": [
      "                                    title           released  \\\n",
      "0                        Please Please Me      22 March 1963   \n",
      "1                        With the Beatles   22 November 1963   \n",
      "2           Beatlemania! With the Beatles   25 November 1963   \n",
      "3              Introducing... The Beatles    10 January 1964   \n",
      "4                       Meet the Beatles!    20 January 1964   \n",
      "5                         Twist and Shout    3 February 1964   \n",
      "6               The Beatles' Second Album      10 April 1964   \n",
      "7            The Beatles' Long Tall Sally        11 May 1964   \n",
      "8                      A Hard Day's Night       26 June 1964   \n",
      "9                                               10 July 1964   \n",
      "10                          Something New       20 July 1964   \n",
      "11                       Beatles for Sale    4 December 1964   \n",
      "12                            Beatles '65   15 December 1964   \n",
      "13                             Beatles VI       14 June 1965   \n",
      "14                                  Help!      6 August 1965   \n",
      "15                                            13 August 1965   \n",
      "16                            Rubber Soul    3 December 1965   \n",
      "17                                           6 December 1965   \n",
      "18                    Yesterday and Today       15 June 1966   \n",
      "19                               Revolver      5 August 1966   \n",
      "20                                             8 August 1966   \n",
      "21  Sgt. Pepper's Lonely Hearts Club Band        1 June 1967   \n",
      "22                   Magical Mystery Tour   27 November 1967   \n",
      "23                            The Beatles   22 November 1968   \n",
      "24                       Yellow Submarine    13 January 1969   \n",
      "25                             Abbey Road  26 September 1969   \n",
      "26                              Let It Be         8 May 1970   \n",
      "\n",
      "                           label uk_chart_position us_chart_position  \\\n",
      "0                 Parlophone(UK)                 1                 -   \n",
      "1                 Parlophone(UK)                 1                 -   \n",
      "2                   Capitol(CAN)                 -                 -   \n",
      "3                    Vee-Jay(US)                 -                 2   \n",
      "4                    Capitol(US)                 -                 1   \n",
      "5                   Capitol(CAN)                 -                 -   \n",
      "6                    Capitol(US)                 -                 1   \n",
      "7                   Capitol(CAN)                 -                 -   \n",
      "8          United Artists(US)[C]                 -                 1   \n",
      "9                 Parlophone(UK)                 1                 -   \n",
      "10                   Capitol(US)                 -                 2   \n",
      "11                Parlophone(UK)                 1                 -   \n",
      "12                   Capitol(US)                 -                 1   \n",
      "13   Parlophone(NZ), Capitol(US)                 -                 1   \n",
      "14                Parlophone(UK)                 1                 -   \n",
      "15                Capitol(US)[C]                 -                 1   \n",
      "16                Parlophone(UK)                 1                 -   \n",
      "17                Capitol(US)[C]                 -                 1   \n",
      "18                   Capitol(US)                 -                 1   \n",
      "19                Parlophone(UK)                 1                 -   \n",
      "20                Capitol(US)[C]                 -                 1   \n",
      "21   Parlophone(UK), Capitol(US)                 1                 1   \n",
      "22   Parlophone(UK), Capitol(US)             31[D]                 1   \n",
      "23        Apple(UK), Capitol(US)                 1                 1   \n",
      "24        Apple(UK), Capitol(US)                 3                 2   \n",
      "25        Apple(UK), Capitol(US)                 1                 1   \n",
      "26  Apple(UK),United Artists(US)                 1                 1   \n",
      "\n",
      "   bpi_certification riaa_certification  \n",
      "0               Gold           Platinum  \n",
      "1           Platinum               Gold  \n",
      "2                                        \n",
      "3                                        \n",
      "4                            5xPlatinum  \n",
      "5                                        \n",
      "6                            2xPlatinum  \n",
      "7                                        \n",
      "8                            4xPlatinum  \n",
      "9               Gold                     \n",
      "10                             Platinum  \n",
      "11              Gold           Platinum  \n",
      "12                           3xPlatinum  \n",
      "13                             Platinum  \n",
      "14          Platinum                     \n",
      "15                           3xPlatinum  \n",
      "16          Platinum                     \n",
      "17                           6xPlatinum  \n",
      "18                           2xPlatinum  \n",
      "19          Platinum                     \n",
      "20                           5xPlatinum  \n",
      "21        3xPlatinum        11xPlatinum  \n",
      "22          Platinum         6xPlatinum  \n",
      "23          Platinum        19xPlatinum  \n",
      "24            Silver           Platinum  \n",
      "25        2xPlatinum        12xPlatinum  \n",
      "26              Gold         4xPlatinum  \n"
     ]
    }
   ],
   "source": [
    "import pandas as pd\n",
    "conn = sqlite3.connect('beatles.db')\n",
    "df = pd.read_sql_query(\"SELECT * FROM my_table\", conn)\n",
    "conn.close()\n",
    "print(df)\n"
   ]
  },
  {
   "cell_type": "code",
   "execution_count": 25,
   "metadata": {},
   "outputs": [
    {
     "name": "stdout",
     "output_type": "stream",
     "text": [
      "('22 March 1963',)\n",
      "('22 November 1963',)\n",
      "('25 November 1963',)\n",
      "('10 January 1964',)\n",
      "('20 January 1964',)\n",
      "('3 February 1964',)\n",
      "('10 April 1964',)\n",
      "('11 May 1964',)\n",
      "('26 June 1964',)\n",
      "('10 July 1964',)\n",
      "('20 July 1964',)\n",
      "('4 December 1964',)\n",
      "('15 December 1964',)\n",
      "('14 June 1965',)\n",
      "('6 August 1965',)\n",
      "('13 August 1965',)\n",
      "('3 December 1965',)\n",
      "('6 December 1965',)\n",
      "('15 June 1966',)\n",
      "('5 August 1966',)\n",
      "('8 August 1966',)\n",
      "('1 June 1967',)\n",
      "('27 November 1967',)\n",
      "('22 November 1968',)\n",
      "('13 January 1969',)\n",
      "('26 September 1969',)\n",
      "('8 May 1970',)\n"
     ]
    }
   ],
   "source": [
    "conn = sqlite3.connect('beatles.db')\n",
    "cursor = conn.cursor()\n",
    "query = \"SELECT released FROM my_table;\"\n",
    "cursor.execute(query)\n",
    "results = cursor.fetchall()\n",
    "for row in results:\n",
    "    print(row)"
   ]
  },
  {
   "cell_type": "code",
   "execution_count": 26,
   "metadata": {},
   "outputs": [
    {
     "name": "stdout",
     "output_type": "stream",
     "text": [
      "['title', 'released', 'label', 'uk_chart_position', 'us_chart_position', 'bpi_certification', 'riaa_certification']\n"
     ]
    }
   ],
   "source": [
    "conn = sqlite3.connect('beatles.db')\n",
    "cursor = conn.cursor()\n",
    "query = \"SELECT * FROM my_table;\"\n",
    "cursor.execute(query)\n",
    "column_names = [description[0] for description in cursor.description]\n",
    "print(column_names)"
   ]
  },
  {
   "cell_type": "code",
   "execution_count": 27,
   "metadata": {},
   "outputs": [],
   "source": [
    "cursor.close()\n",
    "conn.close()"
   ]
  },
  {
   "attachments": {},
   "cell_type": "markdown",
   "metadata": {},
   "source": [
    "# PART 2"
   ]
  },
  {
   "cell_type": "code",
   "execution_count": 28,
   "metadata": {},
   "outputs": [
    {
     "data": {
      "text/plain": [
       "159"
      ]
     },
     "execution_count": 28,
     "metadata": {},
     "output_type": "execute_result"
    }
   ],
   "source": [
    "import pandas as pd\n",
    "import sqlite3\n",
    "df = pd.read_csv('biblio.csv', encoding='ISO-8859-1', delimiter=';')\n",
    "df.columns = df.columns.str.lower().str.replace('-', '_').str.strip()\n",
    "conn = sqlite3.connect('database.db')\n",
    "df.to_sql('table_name', conn, if_exists='replace', index=False)"
   ]
  },
  {
   "cell_type": "code",
   "execution_count": 29,
   "metadata": {},
   "outputs": [
    {
     "name": "stdout",
     "output_type": "stream",
     "text": [
      "     id_evento                                             titulo  precio  \\\n",
      "0     11942368                        3 cromosomas de Janira León     NaN   \n",
      "1     11913908               Abriendo el corazón: amor, compasión     NaN   \n",
      "2     11937608  Alzheimer precoz:  importancia del diagnóstico...     NaN   \n",
      "3     11776601                                 Amar la existencia     NaN   \n",
      "4     11949829                             Asómate a esos cuentos     NaN   \n",
      "..         ...                                                ...     ...   \n",
      "154   11940694  'Nada fue en balde' de María Rosario Sanz Vaquero     NaN   \n",
      "155   11897797  'Pequeña Miss Sunshine' de Johathan Dayton y V...     NaN   \n",
      "156   11949830                                     ¡Uf! Qué susto     NaN   \n",
      "157   11949835                                     ¡Uf! Qué susto     NaN   \n",
      "158   11938208  ¿Cómo puede cambiar nuestra vida los vertigino...     NaN   \n",
      "\n",
      "     gratuito  larga_duracion dias_semana         dias_excluidos  \\\n",
      "0           1               0         NaN                    NaN   \n",
      "1           1               0         NaN                    NaN   \n",
      "2           1               0         NaN                    NaN   \n",
      "3           1               1           X  12/10/2022;9/11/2022;   \n",
      "4           1               0         NaN                    NaN   \n",
      "..        ...             ...         ...                    ...   \n",
      "154         1               0         NaN                    NaN   \n",
      "155         1               0         NaN                    NaN   \n",
      "156         1               0         NaN                    NaN   \n",
      "157         1               0         NaN                    NaN   \n",
      "158         1               0         NaN                    NaN   \n",
      "\n",
      "                     fecha              fecha_fin   hora  ...  \\\n",
      "0    2023-03-31 00:00:00.0  2023-03-31 23:59:00.0  18:00  ...   \n",
      "1    2023-04-29 00:00:00.0  2023-04-29 23:59:00.0  12:00  ...   \n",
      "2    2023-04-19 00:00:00.0  2023-04-19 23:59:00.0  11:30  ...   \n",
      "3    2022-09-21 00:00:00.0  2023-06-28 23:59:00.0    NaN  ...   \n",
      "4    2023-03-28 00:00:00.0  2023-03-28 23:59:00.0  17:30  ...   \n",
      "..                     ...                    ...    ...  ...   \n",
      "154  2023-03-23 00:00:00.0  2023-03-23 23:59:00.0  18:30  ...   \n",
      "155  2023-03-24 00:00:00.0  2023-03-24 23:59:00.0  18:00  ...   \n",
      "156  2023-03-28 00:00:00.0  2023-03-28 23:59:00.0  18:00  ...   \n",
      "157  2023-03-30 00:00:00.0  2023-03-30 23:59:00.0  18:00  ...   \n",
      "158  2023-04-13 00:00:00.0  2023-04-13 23:59:00.0  19:00  ...   \n",
      "\n",
      "    distrito_instalacion barrio_instalacion codigo_postal_instalacion  \\\n",
      "0    FUENCARRAL-EL PARDO           EL PILAR                   28029.0   \n",
      "1                 RETIRO      LOS JERONIMOS                   28009.0   \n",
      "2    FUENCARRAL-EL PARDO           EL PILAR                   28029.0   \n",
      "3    SAN BLAS-CANILLEJAS         CANILLEJAS                   28022.0   \n",
      "4                 TETUAN           ALMENARA                   28029.0   \n",
      "..                   ...                ...                       ...   \n",
      "154  FUENCARRAL-EL PARDO           EL PILAR                   28029.0   \n",
      "155               CENTRO           JUSTICIA                   28004.0   \n",
      "156  FUENCARRAL-EL PARDO           EL PILAR                   28029.0   \n",
      "157  SAN BLAS-CANILLEJAS         CANILLEJAS                   28022.0   \n",
      "158               RETIRO      LOS JERONIMOS                   28009.0   \n",
      "\n",
      "    coordenada_x coordenada_y    latitud  longitud  \\\n",
      "0       439867.0    4481122.0  40.478601 -3.709441   \n",
      "1       442345.0    4474221.0  40.416609 -3.679593   \n",
      "2       439867.0    4481122.0  40.478601 -3.709441   \n",
      "3       448119.0    4477485.0  40.446402 -3.611793   \n",
      "4       440857.0    4480052.0  40.469033 -3.697662   \n",
      "..           ...          ...        ...       ...   \n",
      "154     439867.0    4481122.0  40.478601 -3.709441   \n",
      "155     440645.0    4475347.0  40.426642 -3.699723   \n",
      "156     439867.0    4481122.0  40.478601 -3.709441   \n",
      "157     448119.0    4477485.0  40.446402 -3.611793   \n",
      "158     442345.0    4474221.0  40.416609 -3.679593   \n",
      "\n",
      "                                                  tipo  \\\n",
      "0    /contenido/actividades/RecitalesPresentaciones...   \n",
      "1         /contenido/actividades/ConferenciasColoquios   \n",
      "2         /contenido/actividades/ConferenciasColoquios   \n",
      "3                /contenido/actividades/CursosTalleres   \n",
      "4    /contenido/actividades/CuentacuentosTiteresMar...   \n",
      "..                                                 ...   \n",
      "154  /contenido/actividades/RecitalesPresentaciones...   \n",
      "155  /contenido/actividades/CineActividadesAudiovis...   \n",
      "156  /contenido/actividades/CuentacuentosTiteresMar...   \n",
      "157  /contenido/actividades/CuentacuentosTiteresMar...   \n",
      "158       /contenido/actividades/ConferenciasColoquios   \n",
      "\n",
      "                               audiencia  unnamed: 29  \n",
      "0                         /usuario/Niños          NaN  \n",
      "1                                    NaN          NaN  \n",
      "2    /usuario/OtrosColectivosNecesitados          NaN  \n",
      "3                                    NaN          NaN  \n",
      "4                         /usuario/Niños          NaN  \n",
      "..                                   ...          ...  \n",
      "154                                  NaN          NaN  \n",
      "155                                  NaN          NaN  \n",
      "156                       /usuario/Niños          NaN  \n",
      "157                       /usuario/Niños          NaN  \n",
      "158                                  NaN          NaN  \n",
      "\n",
      "[159 rows x 30 columns]\n"
     ]
    }
   ],
   "source": [
    "print(df)"
   ]
  },
  {
   "cell_type": "code",
   "execution_count": 30,
   "metadata": {},
   "outputs": [
    {
     "name": "stdout",
     "output_type": "stream",
     "text": [
      "['id_evento', 'titulo', 'precio', 'gratuito', 'larga_duracion', 'dias_semana', 'dias_excluidos', 'fecha', 'fecha_fin', 'hora', 'descripcion', 'content_url', 'titulo_actividad', 'url_actividad', 'url_instalacion', 'nombre_instalacion', 'accesibilidad_instalacion', 'clase_vial_instalacion', 'nombre_via_instalacion', 'num_instalacion', 'distrito_instalacion', 'barrio_instalacion', 'codigo_postal_instalacion', 'coordenada_x', 'coordenada_y', 'latitud', 'longitud', 'tipo', 'audiencia', 'unnamed: 29']\n"
     ]
    }
   ],
   "source": [
    "conn = sqlite3.connect('database.db')\n",
    "cursor = conn.cursor()\n",
    "query = \"SELECT * FROM table_name;\"\n",
    "cursor.execute(query)\n",
    "column_names = [description[0] for description in cursor.description]\n",
    "print(column_names)"
   ]
  },
  {
   "cell_type": "code",
   "execution_count": 31,
   "metadata": {},
   "outputs": [
    {
     "name": "stdout",
     "output_type": "stream",
     "text": [
      "id_evento,titulo,precio,gratuito,larga_duracion,dias_semana,dias_excluidos,fecha,fecha_fin,hora,descripcion,content_url,titulo_actividad,url_actividad,url_instalacion,nombre_instalacion,accesibilidad_instalacion,clase_vial_instalacion,nombre_via_instalacion,num_instalacion,distrito_instalacion,barrio_instalacion,codigo_postal_instalacion,coordenada_x,coordenada_y,latitud,longitud,tipo,audiencia,unnamed: 29\n",
      "9\n",
      "[\"11949583, 'Desenterrando a las olvidadas', None, 1, 1, 'L,M,X,J,V,S,D', '20/3/2023;', '2023-03-03 00:00:00.0', '2023-03-31 23:59:00.0', None, None, 'http://www.madrid.es/sites/v/index.jsp?vgnextchannel=ca9671ee4a9eb410VgnVCM100000171f5a0aRCRD&vgnextoid=5eb66a9a887a6810VgnVCM2000001f4a900aRCRD', None, None, 'http://www.madrid.es/sites/v/index.jsp?vgnextchannel=bfa48ab43d6bb410VgnVCM100000171f5a0aRCRD&vgnextoid=83e748aaf535e710VgnVCM1000001d4a900aRCRD', 'Biblioteca Pública Municipal San Fermín Usera', '1,5,6', 'AVENIDA', 'SAN FERMIN', 10.0, 'USERA', 'SAN FERMIN', 28041.0, 441188.0, 4469184.0, 40.3711623444796, -3.692742821990015, '/contenido/actividades/Exposiciones', None, None\", \"11949798, 'Entre el cielo y la tierra', None, 1, 0, None, None, '2023-03-25 00:00:00.0', '2023-03-25 23:59:00.0', '12:00', 'Duendes, tesoros, aventuras, misterios... Las bibliotecas están llenas de historias que cuenteros y cuenteras nos acercan a través de su creatividad y su magia.  Este cuento está pensado para niños y niñas a partir de 4 años. Insccríbete en este  enlace    La biblioteca se pondrá en contacto contigo para confirmar tu asistencia, respetando el orden de inscripción. Recuerda que los niños y niñas podrán ir acompañados por una persona adulta.  Te esperamos en la biblioteca para pasar un buen rato lleno de fantasía, de la mano de Alberto Sebastián .', 'http://www.madrid.es/sites/v/index.jsp?vgnextchannel=ca9671ee4a9eb410VgnVCM100000171f5a0aRCRD&vgnextoid=81dc821e3e7a6810VgnVCM1000001d4a900aRCRD', None, None, 'http://www.madrid.es/sites/v/index.jsp?vgnextchannel=bfa48ab43d6bb410VgnVCM100000171f5a0aRCRD&vgnextoid=83e748aaf535e710VgnVCM1000001d4a900aRCRD', 'Biblioteca Pública Municipal San Fermín Usera', '1,5,6', 'AVENIDA', 'SAN FERMIN', 10.0, 'USERA', 'SAN FERMIN', 28041.0, 441188.0, 4469184.0, 40.3711623444796, -3.692742821990015, '/contenido/actividades/CuentacuentosTiteresMarionetas', '/usuario/Niños', None\", '11752002, \"Exposición \\'El enigma Laforet\\'\", None, 1, 1, \\'L,M,X,J,V,S,D\\', None, \\'2023-03-06 00:00:00.0\\', \\'2023-03-31 23:59:00.0\\', \\'08:30\\', None, \\'http://www.madrid.es/sites/v/index.jsp?vgnextchannel=ca9671ee4a9eb410VgnVCM100000171f5a0aRCRD&vgnextoid=417ee56a5d9d2810VgnVCM2000001f4a900aRCRD\\', \\'El enigma Laforet\\', \\'http://www.madrid.es/sites/v/index.jsp?vgnextchannel=ca9671ee4a9eb410VgnVCM100000171f5a0aRCRD&vgnextoid=cd5ee56a5d9d2810VgnVCM2000001f4a900aRCRD\\', \\'http://www.madrid.es/sites/v/index.jsp?vgnextchannel=bfa48ab43d6bb410VgnVCM100000171f5a0aRCRD&vgnextoid=83e748aaf535e710VgnVCM1000001d4a900aRCRD\\', \\'Biblioteca Pública Municipal San Fermín Usera\\', \\'1,5,6\\', \\'AVENIDA\\', \\'SAN FERMIN\\', 10.0, \\'USERA\\', \\'SAN FERMIN\\', 28041.0, 441188.0, 4469184.0, 40.3711623444796, -3.692742821990015, \\'/contenido/actividades/Exposiciones\\', None, None', \"11950011, 'Grupo de mujeres', None, 1, 1, 'J', '30/3/2023;', '2023-03-09 00:00:00.0', '2023-03-23 23:59:00.0', '18:00', 'Si tienes más de 25 años y te apetece participar en un espacio para abordar juntas el autoconocimiento, la autoestima y la creación de redes de apoyo entre mujeres esta es tu oportunidad. Disfrutaremos juntas, en un espacio de cultura como punto de encuentro, de actividades de ocio y experienciales. Taller a cargo de Maria Aránzazu Lorenzo García, Técnica del Programa de Intervención socio comunitaria. Las sesiones se desarrollarán, bien en grupo de mañana viernes 10 y 17 de marzo de 11:00 a 12:30 horas o bien en grupo de tarde jueves 9, 16 y 23 de marzo de 16:30 a 18:00 horas.. Necesita inscripción previa en el siguiente formulario.', 'http://www.madrid.es/sites/v/index.jsp?vgnextchannel=ca9671ee4a9eb410VgnVCM100000171f5a0aRCRD&vgnextoid=5b0ab9483d8a6810VgnVCM1000001d4a900aRCRD', 'Grupo de mujeres', 'http://www.madrid.es/sites/v/index.jsp?vgnextchannel=ca9671ee4a9eb410VgnVCM100000171f5a0aRCRD&vgnextoid=953b266640c16810VgnVCM2000001f4a900aRCRD', 'http://www.madrid.es/sites/v/index.jsp?vgnextchannel=bfa48ab43d6bb410VgnVCM100000171f5a0aRCRD&vgnextoid=83e748aaf535e710VgnVCM1000001d4a900aRCRD', 'Biblioteca Pública Municipal San Fermín Usera', '1,5,6', 'AVENIDA', 'SAN FERMIN', 10.0, 'USERA', 'SAN FERMIN', 28041.0, 441188.0, 4469184.0, 40.3711623444796, -3.692742821990015, '/contenido/actividades/CursosTalleres', None, None\", \"11926005, 'La hora del cuento', None, 1, 1, 'X', None, '2023-02-22 00:00:00.0', '2023-06-22 23:59:00.0', '18:00', None, 'http://www.madrid.es/sites/v/index.jsp?vgnextchannel=ca9671ee4a9eb410VgnVCM100000171f5a0aRCRD&vgnextoid=17e2795e39a36810VgnVCM2000001f4a900aRCRD', 'La hora del cuento en San Fermín', 'http://www.madrid.es/sites/v/index.jsp?vgnextchannel=ca9671ee4a9eb410VgnVCM100000171f5a0aRCRD&vgnextoid=1b62795e39a36810VgnVCM2000001f4a900aRCRD', 'http://www.madrid.es/sites/v/index.jsp?vgnextchannel=bfa48ab43d6bb410VgnVCM100000171f5a0aRCRD&vgnextoid=83e748aaf535e710VgnVCM1000001d4a900aRCRD', 'Biblioteca Pública Municipal San Fermín Usera', '1,5,6', 'AVENIDA', 'SAN FERMIN', 10.0, 'USERA', 'SAN FERMIN', 28041.0, 441188.0, 4469184.0, 40.3711623444796, -3.692742821990015, '/contenido/actividades/CuentacuentosTiteresMarionetas', '/usuario/Niños,/usuario/Familias', None\", \"11964122, 'Las mujeres de San Fermín cuentan su historia', None, 1, 0, None, None, '2023-03-30 00:00:00.0', '2023-03-30 23:59:00.0', '18:00', None, 'http://www.madrid.es/sites/v/index.jsp?vgnextchannel=ca9671ee4a9eb410VgnVCM100000171f5a0aRCRD&vgnextoid=d11c2151db307810VgnVCM1000001d4a900aRCRD', None, None, 'http://www.madrid.es/sites/v/index.jsp?vgnextchannel=bfa48ab43d6bb410VgnVCM100000171f5a0aRCRD&vgnextoid=83e748aaf535e710VgnVCM1000001d4a900aRCRD', 'Biblioteca Pública Municipal San Fermín Usera', '1,5,6', 'AVENIDA', 'SAN FERMIN', 10.0, 'USERA', 'SAN FERMIN', 28041.0, 441188.0, 4469184.0, 40.3711623444796, -3.692742821990015, '/contenido/actividades/ConferenciasColoquios', None, None\", \"11932690, 'Memorias de mujeres. Futuros feministas', None, 1, 1, 'L,M,X,J,V,S,D', '20/3/2023;', '2023-03-04 00:00:00.0', '2023-03-31 23:59:00.0', None, 'La memoria de las mujeres, a lo largo de la historia, ha sido poco reconocida. Las mujeres han sido protagonistas de mil tareas para conformar el mundo y darle vida, pero se les ha invisibilizado. Obreras, madres, estudiantes, cuidadoras, intelectuales, activistas. Migrantes, venidas de lejos y de cerca de nuestra ciudad, llegadas a estos barrios de Usera, donde fueron acogidas y se convirtieron en su lugar en el mundo, en su casa. En este proyecto queremos mostraros algunas de sus historias de vida. Diversas, sencillas, duras. Unas, solas e impotentes, otras, felices y poderosas.', 'http://www.madrid.es/sites/v/index.jsp?vgnextchannel=ca9671ee4a9eb410VgnVCM100000171f5a0aRCRD&vgnextoid=e1e5a8a6a3a56810VgnVCM1000001d4a900aRCRD', None, None, 'http://www.madrid.es/sites/v/index.jsp?vgnextchannel=bfa48ab43d6bb410VgnVCM100000171f5a0aRCRD&vgnextoid=83e748aaf535e710VgnVCM1000001d4a900aRCRD', 'Biblioteca Pública Municipal San Fermín Usera', '1,5,6', 'AVENIDA', 'SAN FERMIN', 10.0, 'USERA', 'SAN FERMIN', 28041.0, 441188.0, 4469184.0, 40.3711623444796, -3.692742821990015, '/contenido/actividades/Exposiciones', None, None\", \"11965534, 'Recordando a Gabriela Mistral', None, 1, 0, None, None, '2023-04-01 00:00:00.0', '2023-04-01 23:59:00.0', '12:30', None, 'http://www.madrid.es/sites/v/index.jsp?vgnextchannel=ca9671ee4a9eb410VgnVCM100000171f5a0aRCRD&vgnextoid=83da971d5f807810VgnVCM1000001d4a900aRCRD', None, None, 'http://www.madrid.es/sites/v/index.jsp?vgnextchannel=bfa48ab43d6bb410VgnVCM100000171f5a0aRCRD&vgnextoid=83e748aaf535e710VgnVCM1000001d4a900aRCRD', 'Biblioteca Pública Municipal San Fermín Usera', '1,5,6', 'AVENIDA', 'SAN FERMIN', 10.0, 'USERA', 'SAN FERMIN', 28041.0, 441188.0, 4469184.0, 40.3711623444796, -3.692742821990015, '/contenido/actividades/TeatroPerformance', None, None\", '11961966, \"\\'Letras contra la soledad\\'\", None, 1, 0, None, None, \\'2023-04-19 00:00:00.0\\', \\'2023-04-19 23:59:00.0\\', \\'11:30\\', None, \\'http://www.madrid.es/sites/v/index.jsp?vgnextchannel=ca9671ee4a9eb410VgnVCM100000171f5a0aRCRD&vgnextoid=f3948ee047ae6810VgnVCM2000001f4a900aRCRD\\', None, None, \\'http://www.madrid.es/sites/v/index.jsp?vgnextchannel=bfa48ab43d6bb410VgnVCM100000171f5a0aRCRD&vgnextoid=83e748aaf535e710VgnVCM1000001d4a900aRCRD\\', \\'Biblioteca Pública Municipal San Fermín Usera\\', \\'1,5,6\\', \\'AVENIDA\\', \\'SAN FERMIN\\', 10.0, \\'USERA\\', \\'SAN FERMIN\\', 28041.0, 441188.0, 4469184.0, 40.3711623444796, -3.692742821990015, \\'/contenido/actividades/ConferenciasColoquios\\', None, None']\n"
     ]
    }
   ],
   "source": [
    "query = \"SELECT * FROM table_name WHERE barrio_instalacion = 'SAN FERMIN';\"\n",
    "# query = \"SELECT * FROM table_name WHERE id_evento = 11930089;\"\n",
    "# query = \"SELECT * FROM table_name \"\n",
    "# query = \"SELECT * FROM table_name WHERE GRATUITO is 0;\"\n",
    "cursor.execute(query)\n",
    "\n",
    "# Retrieve the results\n",
    "results = cursor.fetchall()\n",
    "lines = []\n",
    "columns = \",\".join(column_names)\n",
    "print(columns)\n",
    "for result in results:\n",
    "    # print(result)\n",
    "    lines.append(f'{str(result).replace(\"(\", \"\").replace(\")\", \"\")}' )\n",
    "print(len(lines))\n",
    "print(lines)\n",
    "lines.insert(0, columns)\n",
    "with open(\"query.csv\", \"w\") as f:\n",
    "    f.write(\"\\n\".join(list(lines)))"
   ]
  },
  {
   "cell_type": "code",
   "execution_count": 32,
   "metadata": {},
   "outputs": [],
   "source": [
    "cursor.close()\n",
    "conn.close()"
   ]
  },
  {
   "attachments": {},
   "cell_type": "markdown",
   "metadata": {},
   "source": [
    "# Part 3\n",
    "JOINS\n"
   ]
  },
  {
   "cell_type": "code",
   "execution_count": 33,
   "metadata": {},
   "outputs": [
    {
     "data": {
      "text/plain": [
       "99"
      ]
     },
     "execution_count": 33,
     "metadata": {},
     "output_type": "execute_result"
    }
   ],
   "source": [
    "import pandas as pd\n",
    "df = pd.read_json('first_table.json')\n",
    "\n",
    "conn = sqlite3.connect('school.db')\n",
    "df.to_sql('students', conn, if_exists='replace', index=False)"
   ]
  },
  {
   "cell_type": "code",
   "execution_count": 34,
   "metadata": {},
   "outputs": [
    {
     "data": {
      "text/plain": [
       "99"
      ]
     },
     "execution_count": 34,
     "metadata": {},
     "output_type": "execute_result"
    }
   ],
   "source": [
    "df = pd.read_json('second_table.json')\n",
    "\n",
    "conn = sqlite3.connect('school.db')\n",
    "df.to_sql('phones', conn, if_exists='replace', index=False)"
   ]
  },
  {
   "cell_type": "code",
   "execution_count": 35,
   "metadata": {},
   "outputs": [
    {
     "name": "stdout",
     "output_type": "stream",
     "text": [
      "['id', 'phone_number']\n"
     ]
    }
   ],
   "source": [
    "conn = sqlite3.connect('school.db')\n",
    "cursor = conn.cursor()\n",
    "query = \"SELECT * FROM phones\"\n",
    "cursor.execute(query)\n",
    "# print(cursor.fetchall())\n",
    "# print(cursor.fetchmany(10))\n",
    "# print(cursor.fetchone())\n",
    "column_names = [description[0] for description in cursor.description]\n",
    "print(column_names)"
   ]
  },
  {
   "cell_type": "code",
   "execution_count": 36,
   "metadata": {},
   "outputs": [
    {
     "name": "stdout",
     "output_type": "stream",
     "text": [
      "['id', 'phone_number']\n"
     ]
    }
   ],
   "source": [
    "query = \"SELECT * FROM phones;\"\n",
    "cursor.execute(query)\n",
    "column_names = [description[0] for description in cursor.description]\n",
    "print(column_names)"
   ]
  },
  {
   "cell_type": "code",
   "execution_count": 37,
   "metadata": {},
   "outputs": [
    {
     "name": "stdout",
     "output_type": "stream",
     "text": [
      "[(1, 'lloyd, mark', '+1-281-108-6812x7389'), (2, 'allen, lynn', '001-557-337-9696x83613'), (3, 'wilson, thomas', '+1-455-638-8534x532'), (4, 'grant, cheryl', '(248)744-7317x914'), (5, 'thomas, crystal', '204-966-8896x6178'), (6, 'mason, melissa', '(776)266-8694x094'), (7, 'johnson, susan', '787-909-1655x4915'), (8, 'thompson, lisa', '(217)220-7945x514'), (9, 'romero, mary', '001-225-607-9186x33907'), (10, 'white, marc', '960-100-5774'), (11, 'miller, kimberly', '(813)858-3909x2283'), (12, 'ferguson, jamie', '540-881-8357x731'), (13, 'lee, christopher', '+1-776-697-1521'), (14, 'gonzalez, ann', '+1-734-854-5755x3000'), (15, 'kim, janet', '+1-390-613-6397'), (16, 'jones, mary', '001-345-315-7997x267'), (17, 'hendrix, jodi', '(220)002-0574x87814'), (18, 'paul, melissa', '(819)702-5721x28441'), (19, 'davis, steven', '001-584-024-4736x452'), (20, 'miller, kimberly', '+1-087-200-6636x2141'), (21, 'medina, daniel', '439-738-4612x01890'), (22, 'wallace, kimberly', '(461)749-2382'), (23, 'arnold, david', '001-715-983-6666x03309'), (24, 'giles, brian', '661.182.8959'), (25, 'cameron, terri', '982.247.2181x10646'), (26, 'potter, sonya', '283-706-7664x5013'), (27, 'schmidt, jeffrey', '089-144-1763x6510'), (28, 'kennedy, joanna', '654-404-4513x0787'), (29, 'mack, patrick', '560-964-3829'), (30, 'valentine, austin', '067.066.5941'), (31, 'simpson, benjamin', '0836840365'), (32, 'howard, veronica', '856.890.6966x309'), (33, 'wilson, valerie', '1174355437'), (34, 'stein, haley', '+1-252-855-9026'), (35, 'brown, thomas', '(666)209-8189'), (36, 'holt, cody', '001-623-982-2612x8053'), (37, 'evans, christopher', '+1-360-097-7877x1094'), (38, 'bridges, rose', '(740)019-2715'), (39, 'mclean, karen', '160-893-2117x5914'), (40, 'johnston, bryan', '675-417-7120x410'), (41, 'olson, kathleen', '5761873934'), (42, 'avila, anthony', '+1-786-518-0822x22878'), (43, 'smith, christopher', '+1-391-253-2594x06065'), (44, 'glass, daniel', '(219)983-0563x515'), (45, 'myers, thomas', '009-002-8500x72642'), (46, 'stephenson, derek', '471-478-2076'), (47, 'green, kelsey', '137.172.7584x52976'), (48, 'miller, frank', '878.882.6694x2975'), (49, 'johnson, susan', '472.798.5901'), (50, 'hall, walter', '001-486-393-6989x17202'), (51, 'gray, tina', '001-205-376-6529x592'), (52, 'joseph, carolyn', '760.950.9784x485'), (53, 'burns, joseph', '761.036.3186'), (54, 'combs, dakota', '3204721681'), (55, 'howell, kenneth', '(029)451-5568x29550'), (56, 'hill, shawn', '(971)461-4848x81513'), (57, 'lopez, brittany', '8130768847'), (58, 'jones, andrew', '614.759.3424x312'), (59, 'thomas, christopher', '(961)567-3862'), (60, 'humphrey, william', '+1-495-195-9040'), (61, 'shelton, kimberly', '2973321210'), (62, 'martin, stephanie', '001-456-543-9023x165'), (63, 'cruz, steve', '823.092.3280'), (64, 'freeman, heather', '263-845-1749x114'), (65, 'tate, james', '043.564.6608x089'), (66, 'clayton, ronnie', '7070012780'), (67, 'king, michelle', '(370)204-3467'), (68, 'wiggins, michaela', '901.192.1551x892'), (69, 'morris, robin', '+1-013-027-8447x509'), (70, 'parsons, tara', '001-910-121-8364x458'), (71, 'fischer, yvonne', '664.960.4701x936'), (72, 'woods, kara', '599-155-9456x279'), (73, 'harrington, alice', '592-799-6590'), (74, 'gordon, richard', '(940)088-6600x4144'), (75, 'oneill, nicholas', '(445)201-8811x520'), (76, 'francis, anna', '(542)681-2845x699'), (77, 'mann, kyle', '871-029-8194x54407'), (78, 'miller, emily', '+1-321-997-2771x88514'), (79, 'thomas, michael', '(970)809-5894'), (80, 'harrington, brandon', '602.442.3621x2363'), (81, 'bartlett, brianna', '215.655.8754'), (82, 'hoffman, erica', '644.696.3388x05448'), (83, 'brown, andrew', '200.225.7430x1726'), (84, 'le, brenda', '6964830732'), (85, 'fowler, madeline', '365-184-9285'), (86, 'nelson, eugene', '(692)928-1696x51461'), (87, 'novak, bruce', '+1-915-091-1237x65288'), (88, 'black, claire', '0114564703'), (89, 'friedman, christopher', '001-842-624-4432x635'), (90, 'park, christian', '701-133-0927'), (91, 'chavez, christine', '(599)115-9842x306'), (92, 'sweeney, brandon', '408-237-4642'), (93, 'goodman, eduardo', '782.415.2749x54869'), (94, 'sullivan, tina', '(154)215-5305x1410'), (95, 'jefferson, chase', '018-876-7498x17187'), (96, 'smith, anthony', '+1-170-164-0911x220'), (97, 'norman, benjamin', '269.261.3462x32501'), (98, 'glover, lindsay', '099.552.7467x0308'), (99, 'roth, sharon', '281.743.1449')]\n"
     ]
    }
   ],
   "source": [
    "cursor.execute(\"\"\" \n",
    "SELECT students.id, students.name, phones.phone_number FROM students\n",
    "INNER JOIN phones\n",
    "ON students.id = phones.id\n",
    "\"\"\")\n",
    "print(cursor.fetchall())"
   ]
  }
 ],
 "metadata": {
  "kernelspec": {
   "display_name": "Python 3",
   "language": "python",
   "name": "python3"
  },
  "language_info": {
   "codemirror_mode": {
    "name": "ipython",
    "version": 3
   },
   "file_extension": ".py",
   "mimetype": "text/x-python",
   "name": "python",
   "nbconvert_exporter": "python",
   "pygments_lexer": "ipython3",
   "version": "3.11.2"
  },
  "orig_nbformat": 4
 },
 "nbformat": 4,
 "nbformat_minor": 2
}
